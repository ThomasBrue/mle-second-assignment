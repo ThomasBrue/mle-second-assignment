{
 "cells": [
  {
   "cell_type": "code",
   "execution_count": 15,
   "metadata": {},
   "outputs": [
    {
     "name": "stdout",
     "output_type": "stream",
     "text": [
      "-------------------------------------------\n",
      "-------------------------------------------\n"
     ]
    }
   ],
   "source": [
    "def dump(obj):\n",
    "      for attr in dir(obj):\n",
    "          print(\"obj.%s = %r\" % (attr, getattr(obj, attr)))\n",
    "\n",
    "data = {\n",
    "  \"calories\": [420, 380, 390],\n",
    "  \"duration\": [50, 40, 45]\n",
    "}\n",
    "\n",
    "\n",
    "class ObjectClass():\n",
    "        # def __init__(self):\n",
    "        #             self.firstAttr = [9,9,9,6,2]\n",
    "\n",
    "        def newAttr(self, attr):\n",
    "                setattr(self, attr, attr)\n",
    "\n",
    "objectClass = ObjectClass()\n",
    "print(\"-------------------------------------------\")\n",
    "# print(objectClass.firstAttr)\n",
    "print(\"-------------------------------------------\")"
   ]
  },
  {
   "cell_type": "code",
   "execution_count": 16,
   "metadata": {},
   "outputs": [
    {
     "name": "stdout",
     "output_type": "stream",
     "text": [
      "[1, 4, 5, 2, 5]\n",
      "<__main__.ObjectClass object at 0x000002BEFA6D8A60>\n",
      "obj.__class__ = <class '__main__.ObjectClass'>\n",
      "obj.__delattr__ = <method-wrapper '__delattr__' of ObjectClass object at 0x000002BEFA6D8A60>\n",
      "obj.__dict__ = {'secondAttr': [1, 4, 5, 2, 5], 'thirdAttr': [1, 4, 5, 2, 5], 'fourthAttr': [1, 4, 5, 2, 5]}\n",
      "obj.__dir__ = <built-in method __dir__ of ObjectClass object at 0x000002BEFA6D8A60>\n",
      "obj.__doc__ = None\n",
      "obj.__eq__ = <method-wrapper '__eq__' of ObjectClass object at 0x000002BEFA6D8A60>\n",
      "obj.__format__ = <built-in method __format__ of ObjectClass object at 0x000002BEFA6D8A60>\n",
      "obj.__ge__ = <method-wrapper '__ge__' of ObjectClass object at 0x000002BEFA6D8A60>\n",
      "obj.__getattribute__ = <method-wrapper '__getattribute__' of ObjectClass object at 0x000002BEFA6D8A60>\n",
      "obj.__gt__ = <method-wrapper '__gt__' of ObjectClass object at 0x000002BEFA6D8A60>\n",
      "obj.__hash__ = <method-wrapper '__hash__' of ObjectClass object at 0x000002BEFA6D8A60>\n",
      "obj.__init__ = <method-wrapper '__init__' of ObjectClass object at 0x000002BEFA6D8A60>\n",
      "obj.__init_subclass__ = <built-in method __init_subclass__ of type object at 0x000002BEF84F6B40>\n",
      "obj.__le__ = <method-wrapper '__le__' of ObjectClass object at 0x000002BEFA6D8A60>\n",
      "obj.__lt__ = <method-wrapper '__lt__' of ObjectClass object at 0x000002BEFA6D8A60>\n",
      "obj.__module__ = '__main__'\n",
      "obj.__ne__ = <method-wrapper '__ne__' of ObjectClass object at 0x000002BEFA6D8A60>\n",
      "obj.__new__ = <built-in method __new__ of type object at 0x00007FFD77C39780>\n",
      "obj.__reduce__ = <built-in method __reduce__ of ObjectClass object at 0x000002BEFA6D8A60>\n",
      "obj.__reduce_ex__ = <built-in method __reduce_ex__ of ObjectClass object at 0x000002BEFA6D8A60>\n",
      "obj.__repr__ = <method-wrapper '__repr__' of ObjectClass object at 0x000002BEFA6D8A60>\n",
      "obj.__setattr__ = <method-wrapper '__setattr__' of ObjectClass object at 0x000002BEFA6D8A60>\n",
      "obj.__sizeof__ = <built-in method __sizeof__ of ObjectClass object at 0x000002BEFA6D8A60>\n",
      "obj.__str__ = <method-wrapper '__str__' of ObjectClass object at 0x000002BEFA6D8A60>\n",
      "obj.__subclasshook__ = <built-in method __subclasshook__ of type object at 0x000002BEF84F6B40>\n",
      "obj.__weakref__ = None\n",
      "obj.fourthAttr = [1, 4, 5, 2, 5]\n",
      "obj.newAttr = <bound method ObjectClass.newAttr of <__main__.ObjectClass object at 0x000002BEFA6D8A60>>\n",
      "obj.secondAttr = [1, 4, 5, 2, 5]\n",
      "obj.thirdAttr = [1, 4, 5, 2, 5]\n"
     ]
    }
   ],
   "source": [
    "setattr(objectClass, \"secondAttr\", [1,4,5,2,5])\n",
    "setattr(objectClass, \"thirdAttr\", [1,4,5,2,5])\n",
    "setattr(objectClass, \"fourthAttr\", [1,4,5,2,5])\n",
    "print(objectClass.secondAttr)\n",
    "\n",
    "print(objectClass)\n",
    "dump(objectClass)"
   ]
  },
  {
   "cell_type": "code",
   "execution_count": 18,
   "metadata": {},
   "outputs": [
    {
     "name": "stdout",
     "output_type": "stream",
     "text": [
      "             Tag  number\n",
      "0           Geek      25\n",
      "1             is      30\n",
      "2            for      26\n",
      "3  Geeksforgeeks      22\n",
      "   col1  col2\n",
      "0     1     3\n",
      "1     2     4\n"
     ]
    }
   ],
   "source": [
    "import pandas as pd  \n",
    "      \n",
    "# List1  \n",
    "lst = [['Geek', 25], ['is', 30], \n",
    "       ['for', 26], ['Geeksforgeeks', 22]] \n",
    "  \n",
    "# creating df object with columns specified    \n",
    "df = pd.DataFrame(lst, columns =['Tag', 'number']) \n",
    "print(df )\n",
    "\n",
    "\n",
    "\n",
    "\n",
    "d = {'col1': [1, 2], 'col2': [3, 4]}\n",
    "\n",
    "df = pd.DataFrame(d) \n",
    "print(df )"
   ]
  },
  {
   "cell_type": "code",
   "execution_count": 29,
   "metadata": {},
   "outputs": [
    {
     "name": "stdout",
     "output_type": "stream",
     "text": [
      "[[7, 7, 4, 1], [8, 8, 5, 2], [9, 9, 6, 3]]\n",
      "   0  1  2  3\n",
      "0  7  7  4  1\n",
      "1  8  8  5  2\n",
      "2  9  9  6  3\n"
     ]
    },
    {
     "data": {
      "text/html": [
       "<div>\n",
       "<style scoped>\n",
       "    .dataframe tbody tr th:only-of-type {\n",
       "        vertical-align: middle;\n",
       "    }\n",
       "\n",
       "    .dataframe tbody tr th {\n",
       "        vertical-align: top;\n",
       "    }\n",
       "\n",
       "    .dataframe thead th {\n",
       "        text-align: right;\n",
       "    }\n",
       "</style>\n",
       "<table border=\"1\" class=\"dataframe\">\n",
       "  <thead>\n",
       "    <tr style=\"text-align: right;\">\n",
       "      <th></th>\n",
       "      <th>0</th>\n",
       "      <th>1</th>\n",
       "      <th>2</th>\n",
       "      <th>3</th>\n",
       "    </tr>\n",
       "  </thead>\n",
       "  <tbody>\n",
       "    <tr>\n",
       "      <th>0</th>\n",
       "      <td>7</td>\n",
       "      <td>7</td>\n",
       "      <td>4</td>\n",
       "      <td>1</td>\n",
       "    </tr>\n",
       "    <tr>\n",
       "      <th>1</th>\n",
       "      <td>8</td>\n",
       "      <td>8</td>\n",
       "      <td>5</td>\n",
       "      <td>2</td>\n",
       "    </tr>\n",
       "    <tr>\n",
       "      <th>2</th>\n",
       "      <td>9</td>\n",
       "      <td>9</td>\n",
       "      <td>6</td>\n",
       "      <td>3</td>\n",
       "    </tr>\n",
       "  </tbody>\n",
       "</table>\n",
       "</div>"
      ],
      "text/plain": [
       "   0  1  2  3\n",
       "0  7  7  4  1\n",
       "1  8  8  5  2\n",
       "2  9  9  6  3"
      ]
     },
     "execution_count": 29,
     "metadata": {},
     "output_type": "execute_result"
    }
   ],
   "source": [
    "original = [[1, 2, 3],\n",
    "            [4, 5, 6],\n",
    "            [7, 8, 9],\n",
    "            [7, 8, 9]\n",
    "            ]\n",
    "\n",
    "\n",
    "def rotated(array_2d):\n",
    "    list_of_tuples = zip(*array_2d[::-1])\n",
    "    return [list(elem) for elem in list_of_tuples]\n",
    "  \n",
    "\n",
    "newData = list(rotated(original))\n",
    "imageAmount = len(newData[0])\n",
    "\n",
    "columns = []\n",
    "\n",
    "for index, number in enumerate(newData[0]) :\n",
    "    columns.append(index)\n",
    "\n",
    "print(newData)\n",
    "\n",
    "\n",
    "df = pd.DataFrame(newData, columns = columns) \n",
    "print(df )\n",
    "\n",
    "\n",
    "df.head()"
   ]
  },
  {
   "cell_type": "code",
   "execution_count": 30,
   "metadata": {},
   "outputs": [
    {
     "name": "stdout",
     "output_type": "stream",
     "text": [
      "        A   B   C\n",
      "ONE    11  12  13\n",
      "TWO    21  22  23\n",
      "THREE  31  32  33\n"
     ]
    }
   ],
   "source": [
    "import pandas as pd\n",
    "\n",
    "df = pd.DataFrame({'A': [11, 21, 31],\n",
    "                   'B': [12, 22, 32],\n",
    "                   'C': [13, 23, 33]},\n",
    "                  index=['ONE', 'TWO', 'THREE'])\n",
    "\n",
    "print(df)"
   ]
  }
 ],
 "metadata": {
  "interpreter": {
   "hash": "1a23277f56033b1b0b4dbf3d01d1493a914dddac8349475267dae77821e361c4"
  },
  "kernelspec": {
   "display_name": "Python 3.10.3 64-bit",
   "language": "python",
   "name": "python3"
  },
  "language_info": {
   "codemirror_mode": {
    "name": "ipython",
    "version": 3
   },
   "file_extension": ".py",
   "mimetype": "text/x-python",
   "name": "python",
   "nbconvert_exporter": "python",
   "pygments_lexer": "ipython3",
   "version": "3.10.3"
  },
  "orig_nbformat": 4
 },
 "nbformat": 4,
 "nbformat_minor": 2
}
